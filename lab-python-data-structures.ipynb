{
 "cells": [
  {
   "cell_type": "markdown",
   "metadata": {
    "tags": []
   },
   "source": [
    "# Lab | Data Structures "
   ]
  },
  {
   "cell_type": "markdown",
   "metadata": {},
   "source": [
    "## Exercise: Managing Customer Orders\n",
    "\n",
    "As part of a business venture, you are starting an online store that sells various products. To ensure smooth operations, you need to develop a program that manages customer orders and inventory.\n",
    "\n",
    "Follow the steps below to complete the exercise:\n",
    "\n",
    "1. Define a list called `products` that contains the following items: \"t-shirt\", \"mug\", \"hat\", \"book\", \"keychain\".\n",
    "\n",
    "2. Create an empty dictionary called `inventory`.\n",
    "\n",
    "3. Ask the user to input the quantity of each product available in the inventory. Use the product names from the `products` list as keys in the `inventory` dictionary and assign the respective quantities as values.\n",
    "\n",
    "4. Create an empty set called `customer_orders`.\n",
    "\n",
    "5. Ask the user to input the name of three products that a customer wants to order (from those in the products list, meaning three products out of \"t-shirt\", \"mug\", \"hat\", \"book\" or \"keychain\". Add each product name to the `customer_orders` set.\n",
    "\n",
    "6. Print the products in the `customer_orders` set.\n",
    "\n",
    "7. Calculate the following order statistics:\n",
    "   - Total Products Ordered: The total number of products in the `customer_orders` set.\n",
    "   - Percentage of Products Ordered: The percentage of products ordered compared to the total available products.\n",
    "   \n",
    "   Store these statistics in a tuple called `order_status`.\n",
    "\n",
    "8. Print the order statistics using the following format:\n",
    "   ```\n",
    "   Order Statistics:\n",
    "   Total Products Ordered: <total_products_ordered>\n",
    "   Percentage of Products Ordered: <percentage_ordered>% \n",
    "   ```\n",
    "\n",
    "9. Update the inventory by subtracting 1 from the quantity of each product. Modify the `inventory` dictionary accordingly.\n",
    "\n",
    "10. Print the updated inventory, displaying the quantity of each product on separate lines.\n",
    "\n",
    "Solve the exercise by implementing the steps using the Python concepts of lists, dictionaries, sets, and basic input/output operations. "
   ]
  },
  {
   "cell_type": "code",
   "execution_count": 5,
   "metadata": {},
   "outputs": [
    {
     "name": "stdout",
     "output_type": "stream",
     "text": [
      "The stock of products is: {'t-shirt': 456, 'mug': 145, 'hat': 456, 'book': 156, 'keychain': 48}\n"
     ]
    }
   ],
   "source": [
    "products = [\"t-shirt\", \"mug\", \"hat\", \"book\", \"keychain\"]\n",
    "inventory = {}\n",
    "\n",
    "quantity_t_shirt = input(\"Please, enter the quantity of t-shirts that are in stock: \").strip()\n",
    "quantity_mug = input(\"Please, enter the quantity of mugs that are in stock: \").strip()\n",
    "quantity_hat = input(\"Please, enter the quantity of hats that are in stock: \").strip()\n",
    "quantity_book = input(\"Please, enter the quantity of books that are in stock: \").strip()\n",
    "quantity_keychain = input(\"Please, enter the quantity of keychain that are in stock: \").strip()\n",
    "\n",
    "inventory[\"t-shirt\"] = int(quantity_t_shirt)\n",
    "inventory[\"mug\"] = int(quantity_mug)\n",
    "inventory[\"hat\"] = int(quantity_hat)\n",
    "inventory[\"book\"] = int(quantity_book)\n",
    "inventory[\"keychain\"] = int(quantity_keychain)\n",
    "\n",
    "total_products_inventory = len(inventory)\n",
    "\n",
    "print(f\"The stock of products is:\",inventory)"
   ]
  },
  {
   "cell_type": "code",
   "execution_count": 6,
   "metadata": {},
   "outputs": [
    {
     "name": "stdout",
     "output_type": "stream",
     "text": [
      "What three products would you like to order?\n",
      "Options available: t-shirt, mug, hat, book, keychain.\n",
      "Your selection: \n",
      "You are ordering: {'mug', 'hat', 'book'}\n"
     ]
    }
   ],
   "source": [
    "print(\"\"\"What three products would you like to order?\n",
    "Options available: t-shirt, mug, hat, book, keychain.\n",
    "Your selection: \"\"\")\n",
    "\n",
    "customer_orders = set()\n",
    "\n",
    "first_product = (input(\"Type the first product: \")).strip().lower()\n",
    "second_product = (input(\"Type the second product: \")).strip().lower()\n",
    "third_product = (input(\"Type the third product: \")).strip().lower()\n",
    "\n",
    "customer_orders.add(first_product)\n",
    "customer_orders.add(second_product)\n",
    "customer_orders.add(third_product)\n",
    "\n",
    "print(\"You are ordering:\",customer_orders)"
   ]
  },
  {
   "cell_type": "code",
   "execution_count": 7,
   "metadata": {},
   "outputs": [
    {
     "name": "stdout",
     "output_type": "stream",
     "text": [
      "The order status is (3, 60)\n"
     ]
    }
   ],
   "source": [
    "total_products_ordered = len(customer_orders)\n",
    "percentage_ordered = int((total_products_ordered / total_products_inventory) * 100)\n",
    "\n",
    "order_status = (total_products_ordered, percentage_ordered)\n",
    "print(\"The order status is\", order_status)"
   ]
  },
  {
   "cell_type": "code",
   "execution_count": 8,
   "metadata": {},
   "outputs": [
    {
     "name": "stdout",
     "output_type": "stream",
     "text": [
      "Order Statistics:\n",
      "Total Products Ordered: 3\n",
      "Percentage of Products Ordered: 60%\n",
      "\n"
     ]
    }
   ],
   "source": [
    "print(f\"\"\"Order Statistics:\n",
    "Total Products Ordered: {total_products_ordered}\n",
    "Percentage of Products Ordered: {percentage_ordered}%\n",
    "\"\"\")"
   ]
  },
  {
   "cell_type": "code",
   "execution_count": 9,
   "metadata": {},
   "outputs": [
    {
     "name": "stdout",
     "output_type": "stream",
     "text": [
      "The are 456 of t-shirt left\n",
      "The are 144 of mug left\n",
      "The are 455 of hat left\n",
      "The are 155 of book left\n",
      "The are 48 of keychain left\n"
     ]
    }
   ],
   "source": [
    "for product, stock in inventory.items():\n",
    "    if product in list(customer_orders):\n",
    "        stock -= 1\n",
    "    print(f\"The are {stock} of {product} left\")"
   ]
  }
 ],
 "metadata": {
  "kernelspec": {
   "display_name": "Python 3 (ipykernel)",
   "language": "python",
   "name": "python3"
  },
  "language_info": {
   "codemirror_mode": {
    "name": "ipython",
    "version": 3
   },
   "file_extension": ".py",
   "mimetype": "text/x-python",
   "name": "python",
   "nbconvert_exporter": "python",
   "pygments_lexer": "ipython3",
   "version": "3.11.5"
  }
 },
 "nbformat": 4,
 "nbformat_minor": 4
}
